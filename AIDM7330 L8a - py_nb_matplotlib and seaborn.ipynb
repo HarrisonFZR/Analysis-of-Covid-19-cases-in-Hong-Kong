{
 "cells": [
  {
   "cell_type": "markdown",
   "metadata": {},
   "source": [
    "# AIDM7330 Basic Programming for Data Science"
   ]
  },
  {
   "cell_type": "markdown",
   "metadata": {},
   "source": [
    "# Introduction to matplotlib\n",
    "The purpose of a plotting package is to assist the programmer visualizing data as easily as possible, with all the necessary\n",
    "control, by using relatively high-level commands most of the time, and still have the ability to use the low-level commands when needed.\n",
    "\n",
    "Therefore, everything in matplotlib is organized in a hierarchy. At the top\n",
    "of the hierarchy is the matplotlib \"state-machine environment\" which is\n",
    "provided by the `matplotlib.pyplot` module. At this level, simple\n",
    "functions are used to add plot elements (lines, images, text, etc.) to\n",
    "the current axes in the current figure.\n",
    "\n",
    "The next level down in the hierarchy is the first level of the object-oriented\n",
    "interface, in which pyplot is used only for a few functions such as figure\n",
    "creation, and the user explicitly creates and keeps track of the figure\n",
    "and axes objects. At this level, the user uses pyplot to create figures,\n",
    "and through those figures, one or more axes objects can be created. These\n",
    "axes objects are then used for most plotting actions.\n",
    "\n",
    "For even more control -- which is essential for things like embedding\n",
    "matplotlib plots in GUI applications -- the pyplot level may be dropped\n",
    "completely, leaving a purely object-oriented approach.\n"
   ]
  },
  {
   "cell_type": "markdown",
   "metadata": {},
   "source": [
    "## Install Matplotlib package"
   ]
  },
  {
   "cell_type": "code",
   "execution_count": null,
   "metadata": {},
   "outputs": [],
   "source": [
    "# Install required packages using pip package manager in the current Jupyter kernel\n",
    "import sys\n",
    "!{sys.executable} -m pip install matplotlib"
   ]
  },
  {
   "cell_type": "code",
   "execution_count": null,
   "metadata": {},
   "outputs": [],
   "source": [
    "#important command to display IMMEDIATELY your plots\n",
    "%matplotlib inline"
   ]
  },
  {
   "cell_type": "markdown",
   "metadata": {},
   "source": [
    "## Import libraries"
   ]
  },
  {
   "cell_type": "code",
   "execution_count": null,
   "metadata": {},
   "outputs": [],
   "source": [
    "#import libraries\n",
    "import matplotlib.pyplot as plt\n",
    "import numpy as np\n",
    "import pandas as pd"
   ]
  },
  {
   "cell_type": "markdown",
   "metadata": {},
   "source": [
    "\n",
    "Parts of a Figure\n",
    "=================\n",
    "\n",
    "![](matplotlib_figure_parts.png)\n",
    "\n",
    "`figure.Figure`\n",
    "----------------------------------\n",
    "\n",
    "The **whole** figure.  The figure keeps track of all the child `axes.Axes`, a smattering of\n",
    "'special' artists (titles, figure legends, etc), and the **canvas**.\n",
    "(Don't worry too much about the canvas, it is crucial as it is the\n",
    "object that actually does the drawing to get you your plot, but as the\n",
    "user it is more-or-less invisible to you).  A figure can have any\n",
    "number of `axes.Axes`, but to be useful should have\n",
    "at least one.\n",
    "\n",
    "The easiest way to create a new figure is with pyplot:\n",
    "\n"
   ]
  },
  {
   "cell_type": "code",
   "execution_count": null,
   "metadata": {
    "scrolled": true
   },
   "outputs": [],
   "source": [
    "fig = plt.figure()  # an empty figure with no axes\n",
    "fig.suptitle('No axes on this figure')  # Add a title "
   ]
  },
  {
   "cell_type": "code",
   "execution_count": null,
   "metadata": {},
   "outputs": [],
   "source": [
    "fig, ax_lst = plt.subplots(2, 2)  # a figure with a 2x2 grid of Axes"
   ]
  },
  {
   "cell_type": "markdown",
   "metadata": {},
   "source": [
    "`axes.Axes`\n",
    "------------------------------\n",
    "\n",
    "This is what you think of as 'a plot', it is the region of the image\n",
    "with the data space. A given figure\n",
    "can contain many Axes, but a given `axes.Axes`\n",
    "object can only be in one `figure.Figure`.  The\n",
    "Axes contains two (or three in the case of 3D)\n",
    "`axis.Axis` objects (be aware of the difference\n",
    "between **Axes** and **Axis**) which take care of the data limits.\n",
    "Each\n",
    "`Axes` has a title, an x-label, and a y-label.\n",
    "\n",
    "\n",
    "`axis.Axis`\n",
    "------------------------------\n",
    "\n",
    "These are the number-line-like objects. They take\n",
    "care of setting the graph limits and generating the ticks (the marks\n",
    "on the axis) and ticklabels (strings labeling the ticks).\n",
    "\n",
    "`artist.Artist`\n",
    "----------------------------------\n",
    "\n",
    "Basically everything you can see on the figure is an artist (even the\n",
    "`Figure`, `Axes`, and `Axis` objects).  This\n",
    "includes `Text` objects, `Line2D` objects,\n",
    "`collection` objects, `Patch` objects ... (you get the\n",
    "idea).  When the figure is rendered, all of the artists are drawn to\n",
    "the **canvas**.  Most Artists are tied to an Axes; such an Artist\n",
    "cannot be shared by multiple Axes, or moved from one to another.\n"
   ]
  },
  {
   "cell_type": "markdown",
   "metadata": {},
   "source": [
    "Types of inputs to plotting functions\n",
    "=====================================\n",
    "\n",
    "All of plotting functions expect `np.array` or `np.ma.masked_array` as\n",
    "input.  Classes that are 'array-like' such as `pandas` data objects\n",
    "and `np.matrix` may or may not work as intended.  It is best to\n",
    "convert these to `np.array` objects prior to plotting.\n",
    "\n",
    "For example, to convert a `pandas.DataFrame`:\n"
   ]
  },
  {
   "cell_type": "code",
   "execution_count": null,
   "metadata": {},
   "outputs": [],
   "source": [
    "a = pd.DataFrame(np.random.rand(4,5), columns = list('abcde'))\n",
    "a_asarray = a.values\n",
    "print(a)\n",
    "print(type(a))\n",
    "print('---------')\n",
    "print(a_asarray)\n",
    "print(type(a_asarray))"
   ]
  },
  {
   "cell_type": "markdown",
   "metadata": {},
   "source": [
    "to convert a `np.matrix`:"
   ]
  },
  {
   "cell_type": "code",
   "execution_count": null,
   "metadata": {},
   "outputs": [],
   "source": [
    "b = np.matrix([[1,2],[3,4]])\n",
    "b_asarray = np.asarray(b)\n",
    "print(b)\n",
    "print(type(b))\n",
    "print('---------')\n",
    "print(b_asarray)\n",
    "print(type(b_asarray))"
   ]
  },
  {
   "cell_type": "markdown",
   "metadata": {},
   "source": [
    "Matplotlib, pyplot and pylab: how are they related?\n",
    "====================================================\n",
    "\n",
    "Matplotlib is the whole package and `matplotlib.pyplot` is a module in\n",
    "Matplotlib.\n",
    "\n",
    "For functions in the pyplot module, there is always a \"current\" figure and\n",
    "axes (which is created automatically on request).  For example, in the\n",
    "following example, the first call to ``plt.plot`` creates the axes, then\n",
    "subsequent calls to ``plt.plot`` add additional lines on the same axes, and\n",
    "``plt.xlabel``, ``plt.ylabel``, ``plt.title`` and ``plt.legend`` set the\n",
    "axes labels and title and add a legend.\n"
   ]
  },
  {
   "cell_type": "code",
   "execution_count": null,
   "metadata": {},
   "outputs": [],
   "source": [
    "x = np.linspace(0, 2, 100)\n",
    "\n",
    "plt.plot(x, x, label='linear')\n",
    "plt.plot(x, x**2, label='quadratic')\n",
    "plt.plot(x, x**3, label='cubic')\n",
    "\n",
    "plt.xlabel('x label')\n",
    "plt.ylabel('y label')\n",
    "\n",
    "plt.title(\"Simple Plot\")\n",
    "\n",
    "plt.legend()\n",
    "\n",
    "plt.show()"
   ]
  },
  {
   "cell_type": "code",
   "execution_count": null,
   "metadata": {},
   "outputs": [],
   "source": [
    "x = np.arange(0, 10, 0.2)\n",
    "y = np.sin(x)\n",
    "fig, ax = plt.subplots()\n",
    "ax.plot(x, y)\n",
    "plt.show()"
   ]
  },
  {
   "cell_type": "markdown",
   "metadata": {},
   "source": [
    "\n",
    "# Pyplot\n",
    "\n",
    "\n",
    "An introduction to the pyplot interface.\n"
   ]
  },
  {
   "cell_type": "markdown",
   "metadata": {},
   "source": [
    "Intro to pyplot\n",
    "===============\n",
    "\n",
    "`matplotlib.pyplot` is a collection of command style functions\n",
    "that make matplotlib work like MATLAB.\n",
    "Each ``pyplot`` function makes\n",
    "some change to a figure: e.g., creates a figure, creates a plotting area\n",
    "in a figure, plots some lines in a plotting area, decorates the plot\n",
    "with labels, etc.\n",
    "\n",
    "In `matplotlib.pyplot` various states are preserved\n",
    "across function calls, so that it keeps track of things like\n",
    "the current figure and plotting area, and the plotting\n",
    "functions are directed to the current axes (please note that \"axes\" here\n",
    "and in most places in the documentation refers to the *axes*\n",
    "`part of a figure <figure_parts>`\n",
    "and not the strict mathematical term for more than one axis).\n",
    "\n",
    "Generating visualizations with pyplot is very quick:\n",
    "\n"
   ]
  },
  {
   "cell_type": "code",
   "execution_count": null,
   "metadata": {},
   "outputs": [],
   "source": [
    "import matplotlib.pyplot as plt\n",
    "plt.plot([1, 2, 3, 4])\n",
    "plt.ylabel('some numbers')\n",
    "plt.show()"
   ]
  },
  {
   "cell_type": "markdown",
   "metadata": {},
   "source": [
    "You may be wondering why the x-axis ranges from 0-3 and the y-axis\n",
    "from 1-4.  If you provide a single list or array to the\n",
    "`pyplot.plot` command, matplotlib assumes it is a\n",
    "sequence of y values, and automatically generates the x values for\n",
    "you.  Since python ranges start with 0, the default x vector has the\n",
    "same length as y but starts with 0.  Hence the x data are\n",
    "``[0,1,2,3]``.\n",
    "\n",
    "`pyplot.plot` is a versatile command, and will take\n",
    "an arbitrary number of arguments.  For example, to plot x versus y,\n",
    "you can issue the command:\n",
    "\n"
   ]
  },
  {
   "cell_type": "code",
   "execution_count": null,
   "metadata": {
    "scrolled": true
   },
   "outputs": [],
   "source": [
    "plt.plot([1, 2, 3, 4], [1, 4, 9, 16])"
   ]
  },
  {
   "cell_type": "markdown",
   "metadata": {},
   "source": [
    "Formatting the style of your plot\n",
    "---------------------------------\n",
    "\n",
    "For every x, y pair of arguments, there is an optional third argument\n",
    "which is the format string that indicates the color and line type of\n",
    "the plot.  The letters and symbols of the format string are from\n",
    "MATLAB, and you concatenate a color string with a line style string.\n",
    "The default format string is 'b-', which is a solid blue line.  For\n",
    "example, to plot the above with red circles, you would issue\n",
    "\n"
   ]
  },
  {
   "cell_type": "code",
   "execution_count": null,
   "metadata": {},
   "outputs": [],
   "source": [
    "plt.plot([1, 2, 3, 4], [1, 4, 9, 16], 'ro')\n",
    "plt.axis([0, 6, 0, 20])\n",
    "plt.show()"
   ]
  },
  {
   "cell_type": "markdown",
   "metadata": {},
   "source": [
    "See the `pyplot.plot` documentation for a complete\n",
    "list of line styles and format strings.  The\n",
    "`pyplot.axis` command in the example above takes a\n",
    "list of ``[xmin, xmax, ymin, ymax]`` and specifies the viewport of the\n",
    "axes.\n",
    "\n",
    "If matplotlib were limited to working with lists, it would be fairly\n",
    "useless for numeric processing.  Generally, you will use `numpy` arrays.  In fact, all sequences are\n",
    "converted to numpy arrays internally.  The example below illustrates a\n",
    "plotting several lines with different format styles in one command\n",
    "using arrays.\n",
    "\n"
   ]
  },
  {
   "cell_type": "code",
   "execution_count": null,
   "metadata": {},
   "outputs": [],
   "source": [
    "import numpy as np\n",
    "\n",
    "# evenly sampled time at 200ms intervals\n",
    "t = np.arange(0., 5., 0.2)\n",
    "\n",
    "# red dashes, blue squares and green triangles\n",
    "plt.plot(t, t, 'r--', t, t**2, 'bs', t, t**3, 'g^')\n",
    "plt.show()"
   ]
  },
  {
   "cell_type": "markdown",
   "metadata": {},
   "source": [
    "\n",
    "Plotting with keyword strings\n",
    "=============================\n",
    "\n",
    "There are some instances where you have data in a format that lets you\n",
    "access particular variables with strings. For example, with\n",
    "`numpy.recarray` or :class:`pandas.DataFrame`.\n",
    "\n",
    "Matplotlib allows you provide such an object with\n",
    "the ``data`` keyword argument. If provided, then you may generate plots with\n",
    "the strings corresponding to these variables.\n",
    "\n"
   ]
  },
  {
   "cell_type": "code",
   "execution_count": null,
   "metadata": {},
   "outputs": [],
   "source": [
    "data = {'a': np.arange(50),\n",
    "        'c': np.random.randint(0, 50, 50),\n",
    "        'd': np.random.randn(50)}\n",
    "data['b'] = data['a'] + 10 * np.random.randn(50)\n",
    "data['d'] = np.abs(data['d']) * 100\n",
    "\n",
    "plt.scatter('a', 'b', c='c', s='d', data=data)\n",
    "plt.xlabel('entry a')\n",
    "plt.ylabel('entry b')\n",
    "plt.show()"
   ]
  },
  {
   "cell_type": "markdown",
   "metadata": {},
   "source": [
    "\n",
    "Plotting with categorical variables\n",
    "===================================\n",
    "\n",
    "It is also possible to create a plot using categorical variables.\n",
    "Matplotlib allows you to pass categorical variables directly to\n",
    "many plotting functions. For example:\n",
    "\n"
   ]
  },
  {
   "cell_type": "code",
   "execution_count": null,
   "metadata": {},
   "outputs": [],
   "source": [
    "names = ['group_a', 'group_b', 'group_c']\n",
    "values = [1, 10, 100]\n",
    "\n",
    "plt.figure(figsize=(9, 3))\n",
    "\n",
    "plt.subplot(131)\n",
    "plt.bar(names, values)\n",
    "\n",
    "plt.subplot(132)\n",
    "plt.scatter(names, values)\n",
    "\n",
    "plt.subplot(133)\n",
    "plt.plot(names, values)\n",
    "\n",
    "plt.suptitle('Categorical Plotting')\n",
    "plt.show()"
   ]
  },
  {
   "cell_type": "markdown",
   "metadata": {},
   "source": [
    "# Matplotlib Examples\n",
    "\n",
    "Additional elements in matplotlib"
   ]
  },
  {
   "cell_type": "code",
   "execution_count": null,
   "metadata": {},
   "outputs": [],
   "source": [
    "import matplotlib.pyplot as plt\n",
    "import numpy as np\n",
    "\n",
    "#set x values\n",
    "x = np.arange(0,100)\n",
    "print('----  x  ----')\n",
    "print(x)\n",
    "print(type(x))\n",
    "\n",
    "#set y values\n",
    "y = x*2\n",
    "print('----  y  ----')\n",
    "print(y)\n",
    "print(type(y))\n",
    "\n",
    "#set z values\n",
    "z = x**2\n",
    "print('----  z  ----')\n",
    "print(z)\n",
    "print(type(z))"
   ]
  },
  {
   "cell_type": "markdown",
   "metadata": {},
   "source": [
    "**Example 1**\n",
    "\n",
    "Simple chart: \n",
    "\n",
    "    1) Create a figure object\n",
    "    2) Add an axis to the figure canvas, with origin equals to (0, 0) and width/height as large as the canvas\n",
    "    3) Plot (x, y) on that axes and set the labels and a title (e.g., 'my first plot')"
   ]
  },
  {
   "cell_type": "code",
   "execution_count": null,
   "metadata": {},
   "outputs": [],
   "source": [
    "fig = plt.figure()\n",
    "\n",
    "ax = fig.add_axes([0,0,1,1])\n",
    "ax.set_title('title')\n",
    "ax.set_xlabel('x')\n",
    "ax.set_ylabel('y')\n",
    "\n",
    "ax.plot(x,y);"
   ]
  },
  {
   "cell_type": "markdown",
   "metadata": {},
   "source": [
    "**Example 2**\n",
    "\n",
    "A figure object with put two axes (ax1 and ax2) representing the plot of (x, y).\n",
    "\n",
    "    1) ax1: origin equals (0, 0); height/width as large as the canvas\n",
    "    2) ax2: origin at the middle of the canvas; height/width as large as a quarter of the canvas "
   ]
  },
  {
   "cell_type": "code",
   "execution_count": null,
   "metadata": {},
   "outputs": [],
   "source": [
    "fig1 = plt.figure()\n",
    "\n",
    "ax1 = fig1.add_axes([0,0,1,1])\n",
    "ax2 = fig1.add_axes([0.5,0.5,.25,.25])\n",
    "\n",
    "ax1.plot(x,y)\n",
    "ax2.plot(x,y);"
   ]
  },
  {
   "cell_type": "markdown",
   "metadata": {},
   "source": [
    "**Example 3** \n",
    "\n",
    "Multi chart. \n",
    "\n",
    "    1) Create a figure object and add two axes to a figure object at [0,0,1,1] and [0.2,0.5,.4,.4]\n",
    "    2) Plot (x, z) on the first axis\n",
    "    3) Plot (x, y) on the second axis, and set y boundary between (30, 50), x boundary between (20, 22)"
   ]
  },
  {
   "cell_type": "code",
   "execution_count": null,
   "metadata": {},
   "outputs": [],
   "source": [
    "fig1 = plt.figure()\n",
    "ax0 = fig1.add_axes([0,0,1,1])\n",
    "ax1 = fig1.add_axes([0.2,0.5,.4,.4])\n",
    "\n",
    "ax0.set_xlabel('X')\n",
    "ax0.set_ylabel('Z')\n",
    "\n",
    "ax1.set_xlabel('X')\n",
    "ax1.set_ylabel('Y')\n",
    "ax1.set_ylim(30,50)\n",
    "ax1.set_xlim(20,22)\n",
    "\n",
    "ax0.plot(x,z)\n",
    "ax1.plot(x,y);"
   ]
  },
  {
   "cell_type": "markdown",
   "metadata": {},
   "source": [
    "**Example 4** \n",
    "\n",
    "Zoom of chart.\n",
    "\n",
    "    1) Create a figure object and add two axes to a figure object at [0,0,1,1] and [0.2,0.5,.4,.4]\n",
    "    2) Plot (x, z) on the first of the axes\n",
    "    3) Plot a zoom of (x, z) on the second of the axes, setting z boundary between (0, 2000), x boundary between (20, 40)"
   ]
  },
  {
   "cell_type": "code",
   "execution_count": null,
   "metadata": {},
   "outputs": [],
   "source": [
    "fig1 = plt.figure()\n",
    "ax0 = fig1.add_axes([0,0,1,1])\n",
    "ax1 = fig1.add_axes([0.2,0.5,.4,.4])\n",
    "\n",
    "ax0.set_xlabel('X')\n",
    "ax0.set_ylabel('Z')\n",
    "\n",
    "ax1.set_xlabel('X')\n",
    "ax1.set_ylabel('Z')\n",
    "ax1.set_ylim(0,2000)\n",
    "ax1.set_xlim(20,40)\n",
    "\n",
    "ax0.plot(x,z)\n",
    "ax1.plot(x,z);"
   ]
  },
  {
   "cell_type": "markdown",
   "metadata": {},
   "source": [
    "**Example 5** \n",
    "\n",
    "Sample lines.\n",
    "\n",
    "    1) Add 2 columns of subplot to the current figure.\n",
    "    2) Plot (x,y) and (x,z) on the axes, with different color, linewidth (`lw`) and style (`ls`).\n",
    "\n",
    "|Linestyle | Description |\n",
    "|:---:|:---:|\n",
    "|``'-'`` or ``'solid'`` | solid line|\n",
    "|``'--'`` or  ``'dashed'`` | dashed line|\n",
    "|``'-.'`` or  ``'dashdot'`` | dash-dotted line|\n",
    "|``':'`` or ``'dotted'`` | dotted line|\n",
    "|``'None'`` or ``' '`` or ``''`` | draw nothing|"
   ]
  },
  {
   "cell_type": "code",
   "execution_count": null,
   "metadata": {},
   "outputs": [],
   "source": [
    "fig, axes = plt.subplots(nrows=1,ncols=2)\n",
    "\n",
    "axes[0].plot(x,y,color='red',lw=\"5\",ls='--')\n",
    "axes[1].plot(x,z,color='blue',lw=\"3\", ls='dotted');\n"
   ]
  },
  {
   "cell_type": "markdown",
   "metadata": {},
   "source": [
    "\n",
    "# Seaborn\n",
    "\n",
    "[Seaborn](https://seaborn.pydata.org/) is a Python data visualization library based on matplotlib. It provides a high-level interface for drawing attractive and informative statistical graphics.\n",
    "\n",
    "Library Reference: [LINK](https://seaborn.pydata.org/api.html)"
   ]
  },
  {
   "cell_type": "markdown",
   "metadata": {},
   "source": [
    "## Install Seaborn package"
   ]
  },
  {
   "cell_type": "code",
   "execution_count": null,
   "metadata": {},
   "outputs": [],
   "source": [
    "# Install required packages using pip package manager in the current Jupyter kernel\n",
    "import sys\n",
    "!{sys.executable} -m pip install seaborn"
   ]
  },
  {
   "cell_type": "markdown",
   "metadata": {},
   "source": [
    "## Import the library"
   ]
  },
  {
   "cell_type": "code",
   "execution_count": null,
   "metadata": {},
   "outputs": [],
   "source": [
    "import seaborn as sns\n",
    "\n",
    "# Set the aesthetic style of the plots\n",
    "sns.set_style('whitegrid')"
   ]
  },
  {
   "cell_type": "markdown",
   "metadata": {},
   "source": [
    "## Data Exploration and Analysis\n",
    "Recap"
   ]
  },
  {
   "cell_type": "code",
   "execution_count": null,
   "metadata": {},
   "outputs": [],
   "source": [
    "# Load the 'titanic' dataset from the Seaborn's online repository\n",
    "titanic = sns.load_dataset('titanic')"
   ]
  },
  {
   "cell_type": "code",
   "execution_count": null,
   "metadata": {},
   "outputs": [],
   "source": [
    "# Seaborn loads the dataset as Pandas Dataframe\n",
    "print(type(titanic))"
   ]
  },
  {
   "cell_type": "code",
   "execution_count": null,
   "metadata": {
    "scrolled": false
   },
   "outputs": [],
   "source": [
    "titanic.head()"
   ]
  },
  {
   "cell_type": "code",
   "execution_count": null,
   "metadata": {
    "scrolled": true
   },
   "outputs": [],
   "source": [
    "titanic.describe()"
   ]
  },
  {
   "cell_type": "code",
   "execution_count": null,
   "metadata": {},
   "outputs": [],
   "source": [
    "#check NA values\n",
    "print(titanic.isna().sum())"
   ]
  },
  {
   "cell_type": "markdown",
   "metadata": {},
   "source": [
    "**Example 1** \n",
    "\n",
    "Plot of univariate distribution of the 'fare' column in titanic:\n",
    "* color the bars in red \n",
    "* specify the bins equal to 30.\n",
    "The bins specify how to group the data."
   ]
  },
  {
   "cell_type": "code",
   "execution_count": null,
   "metadata": {
    "scrolled": true
   },
   "outputs": [],
   "source": [
    "sns.distplot(titanic['fare'], kde=False, color=\"red\", bins=30); #bins and red = distplot"
   ]
  },
  {
   "cell_type": "markdown",
   "metadata": {},
   "source": [
    "**Example 2**\n",
    "\n",
    "Plot the counting of males and females in the dataset"
   ]
  },
  {
   "cell_type": "code",
   "execution_count": null,
   "metadata": {
    "scrolled": false
   },
   "outputs": [],
   "source": [
    "sns.countplot(x='sex', data=titanic);"
   ]
  },
  {
   "cell_type": "markdown",
   "metadata": {},
   "source": [
    "**Example 3**\n",
    "\n",
    "Plot the counting of the different passenger classes in the dataset"
   ]
  },
  {
   "cell_type": "code",
   "execution_count": null,
   "metadata": {
    "scrolled": false
   },
   "outputs": [],
   "source": [
    "sns.countplot(x='pclass', data=titanic);"
   ]
  },
  {
   "cell_type": "markdown",
   "metadata": {},
   "source": [
    "**Example 4** \n",
    "\n",
    "Draw a box plot that shows distribution of 'age' with respect to 'class' categories."
   ]
  },
  {
   "cell_type": "code",
   "execution_count": null,
   "metadata": {},
   "outputs": [],
   "source": [
    "sns.boxplot(x=\"class\", y=\"age\", data=titanic, palette='rainbow');"
   ]
  },
  {
   "cell_type": "markdown",
   "metadata": {},
   "source": [
    "**Example 5**\n",
    "\n",
    "A complex chart: includes bivariate and univariate graphs, using the 'fare' column in titanic as x and 'age' column as y."
   ]
  },
  {
   "cell_type": "code",
   "execution_count": null,
   "metadata": {
    "scrolled": false
   },
   "outputs": [],
   "source": [
    "sns.jointplot(x='fare', y='age', data =titanic);"
   ]
  },
  {
   "cell_type": "markdown",
   "metadata": {},
   "source": [
    "**Example 6**\n",
    "\n",
    "The scatterplot with non-overlapping points of the 'age' column, categorized by the 'class' field and color the plot in 'Set2' palette.\n",
    "\n",
    "Scatterplot is sensitive to missing data. We should apply some data cleaning strategy."
   ]
  },
  {
   "cell_type": "code",
   "execution_count": null,
   "metadata": {
    "scrolled": true
   },
   "outputs": [],
   "source": [
    "# Stategy: delete the rows with missing data\n",
    "titanicCopy = titanic.copy()\n",
    "titanicCopy.dropna(how='any', inplace = True)\n",
    "sns.swarmplot(x=\"class\", y=\"age\", data=titanicCopy, palette='Set2');"
   ]
  },
  {
   "cell_type": "code",
   "execution_count": null,
   "metadata": {},
   "outputs": [],
   "source": [
    "# Stategy: when missing, set the 'age' to the median value\n",
    "titanicCopy = titanic.copy()\n",
    "medianAge = titanicCopy['age'].median()\n",
    "titanicCopy.fillna({'age': medianAge}, inplace=True)\n",
    "sns.swarmplot(x=\"class\", y=\"age\", data=titanicCopy, palette='Set2');"
   ]
  },
  {
   "cell_type": "markdown",
   "metadata": {},
   "source": [
    "**Example 7**\n",
    "\n",
    "Visualize as heatmap the pairwise correlation of columns in dataset:\n",
    "* set title 'titanic.corr()'\n",
    "* set color map to 'inferno'\n",
    "\n",
    "Possible color map values: `Accent, Accent_r, Blues, Blues_r, BrBG, BrBG_r, BuGn, BuGn_r, BuPu, BuPu_r, CMRmap, CMRmap_r, Dark2, Dark2_r, GnBu, GnBu_r, Greens, Greens_r, Greys, Greys_r, OrRd, OrRd_r, Oranges, Oranges_r, PRGn, PRGn_r, Paired, Paired_r, Pastel1, Pastel1_r, Pastel2, Pastel2_r, PiYG, PiYG_r, PuBu, PuBuGn, PuBuGn_r, PuBu_r, PuOr, PuOr_r, PuRd, PuRd_r, Purples, Purples_r, RdBu, RdBu_r, RdGy, RdGy_r, RdPu, RdPu_r, RdYlBu, RdYlBu_r, RdYlGn, RdYlGn_r, Reds, Reds_r, Set1, Set1_r, Set2, Set2_r, Set3, Set3_r, Spectral, Spectral_r, Wistia, Wistia_r, YlGn, YlGnBu, YlGnBu_r, YlGn_r, YlOrBr, YlOrBr_r, YlOrRd, YlOrRd_r, afmhot, afmhot_r, autumn, autumn_r, binary, binary_r, bone, bone_r, brg, brg_r, bwr, bwr_r, cividis, cividis_r, cool, cool_r, coolwarm, coolwarm_r, copper, copper_r, cubehelix, cubehelix_r, flag, flag_r, gist_earth, gist_earth_r, gist_gray, gist_gray_r, gist_heat, gist_heat_r, gist_ncar, gist_ncar_r, gist_rainbow, gist_rainbow_r, gist_stern, gist_stern_r, gist_yarg, gist_yarg_r, gnuplot, gnuplot2, gnuplot2_r, gnuplot_r, gray, gray_r, hot, hot_r, hsv, hsv_r, icefire, icefire_r, inferno, inferno_r, jet, jet_r, magma, magma_r, mako, mako_r, nipy_spectral, nipy_spectral_r, ocean, ocean_r, pink, pink_r, plasma, plasma_r, prism, prism_r, rainbow, rainbow_r, rocket, rocket_r, seismic, seismic_r, spring, spring_r, summer, summer_r, tab10, tab10_r, tab20, tab20_r, tab20b, tab20b_r, tab20c, tab20c_r, terrain, terrain_r, twilight, twilight_r, twilight_shifted, twilight_shifted_r, viridis, viridis_r, vlag, vlag_r, winter, winter_r`"
   ]
  },
  {
   "cell_type": "code",
   "execution_count": null,
   "metadata": {},
   "outputs": [],
   "source": [
    "sns.heatmap(titanic.corr(), annot=True, cmap='inferno')\n",
    "plt.title('titanic.corr()');"
   ]
  },
  {
   "cell_type": "markdown",
   "metadata": {},
   "source": [
    "**Example 8** \n",
    "\n",
    "Multi-plot grid for plotting, using histogram, conditional relationships between:\n",
    "* 'sex' and 'age'\n",
    "* 'sex' and 'fare'\n",
    "* 'class' and 'age'\n",
    "* 'class' and 'fare'"
   ]
  },
  {
   "cell_type": "code",
   "execution_count": null,
   "metadata": {
    "scrolled": false
   },
   "outputs": [],
   "source": [
    "g = sns.FacetGrid(titanic, col='sex')\n",
    "g = g.map(plt.hist, 'age')"
   ]
  },
  {
   "cell_type": "code",
   "execution_count": null,
   "metadata": {
    "scrolled": false
   },
   "outputs": [],
   "source": [
    "g = sns.FacetGrid(titanic, col='sex')\n",
    "g = g.map(plt.hist, 'fare')"
   ]
  },
  {
   "cell_type": "code",
   "execution_count": null,
   "metadata": {
    "scrolled": true
   },
   "outputs": [],
   "source": [
    "g = sns.FacetGrid(titanic, col='class')\n",
    "g = g.map(plt.hist, 'age')"
   ]
  },
  {
   "cell_type": "code",
   "execution_count": null,
   "metadata": {
    "scrolled": true
   },
   "outputs": [],
   "source": [
    "g = sns.FacetGrid(titanic, col='class')\n",
    "g = g.map(plt.hist, 'fare')"
   ]
  },
  {
   "cell_type": "markdown",
   "metadata": {},
   "source": [
    "**Example 9** \n",
    "\n",
    "A multiline chart of timed events"
   ]
  },
  {
   "cell_type": "code",
   "execution_count": null,
   "metadata": {},
   "outputs": [],
   "source": [
    "# Load an example dataset with long-form data\n",
    "fmri = sns.load_dataset(\"fmri\")\n",
    "\n",
    "# Plot the responses for different events and regions\n",
    "sns.lineplot(x=\"timepoint\", y=\"signal\",\n",
    "             hue=\"region\", style=\"event\",\n",
    "             data=fmri);"
   ]
  }
 ],
 "metadata": {
  "kernelspec": {
   "display_name": "Python 3",
   "language": "python",
   "name": "python3"
  },
  "language_info": {
   "codemirror_mode": {
    "name": "ipython",
    "version": 3
   },
   "file_extension": ".py",
   "mimetype": "text/x-python",
   "name": "python",
   "nbconvert_exporter": "python",
   "pygments_lexer": "ipython3",
   "version": "3.8.3"
  }
 },
 "nbformat": 4,
 "nbformat_minor": 1
}
